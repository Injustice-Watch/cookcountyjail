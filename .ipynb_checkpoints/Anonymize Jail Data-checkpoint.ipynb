{
 "cells": [
  {
   "cell_type": "code",
   "execution_count": 1,
   "metadata": {
    "collapsed": true
   },
   "outputs": [],
   "source": [
    "import pandas as pd\n",
    "import random"
   ]
  },
  {
   "cell_type": "markdown",
   "metadata": {},
   "source": [
    "ID number generator"
   ]
  },
  {
   "cell_type": "code",
   "execution_count": 2,
   "metadata": {
    "collapsed": true
   },
   "outputs": [],
   "source": [
    "def uniqueid():\n",
    "    seed = random.getrandbits(32)\n",
    "    while True:\n",
    "       yield seed\n",
    "       seed += 1"
   ]
  },
  {
   "cell_type": "markdown",
   "metadata": {},
   "source": [
    "File paths"
   ]
  },
  {
   "cell_type": "code",
   "execution_count": 3,
   "metadata": {
    "collapsed": true
   },
   "outputs": [],
   "source": [
    "original_data = \"/Users/annahazard/Dropbox/Injustice_Watch/Cook County Jail/Data/Original Data/Second Request/Cook_County_May_31_2016.csv\""
   ]
  },
  {
   "cell_type": "code",
   "execution_count": 4,
   "metadata": {
    "collapsed": true
   },
   "outputs": [],
   "source": [
    "output_path = \"Data/Anonymous Data.csv\""
   ]
  },
  {
   "cell_type": "code",
   "execution_count": 5,
   "metadata": {
    "collapsed": true
   },
   "outputs": [],
   "source": [
    "df = pd.read_csv(original_data, header = 0)"
   ]
  },
  {
   "cell_type": "code",
   "execution_count": 6,
   "metadata": {
    "collapsed": false
   },
   "outputs": [
    {
     "data": {
      "text/plain": [
       "Index(['Inmateid', 'Bookingid', 'Last Admission Date', 'InmateLast',\n",
       "       'Inmatefirst', 'Gender', 'Race', 'Age at booking',\n",
       "       'Days in Custody from Last Admission Date', 'casedisposition',\n",
       "       'ChargeDescription', 'Statute', 'ChargeCrimeType', 'CurrentBond',\n",
       "       'TotalBond', 'City', 'Zip'],\n",
       "      dtype='object')"
      ]
     },
     "execution_count": 6,
     "metadata": {},
     "output_type": "execute_result"
    }
   ],
   "source": [
    "df.columns"
   ]
  },
  {
   "cell_type": "code",
   "execution_count": 7,
   "metadata": {
    "collapsed": true
   },
   "outputs": [],
   "source": [
    "iids_sequence = uniqueid()\n",
    "bookids_sequence = uniqueid()\n",
    "iid_seen = set([])\n",
    "book_seen = set([])\n",
    "o_iids = set(df[\"Inmateid\"])\n",
    "o_bookids = set(df[\"Bookingid\"])\n",
    "iid_dict = {}\n",
    "bookid_dict = {}"
   ]
  },
  {
   "cell_type": "code",
   "execution_count": 8,
   "metadata": {
    "collapsed": false
   },
   "outputs": [],
   "source": [
    "for i in o_iids:\n",
    "    iid_dict[i] = next(iids_sequence)\n",
    "for i in o_bookids:\n",
    "    bookid_dict[i] = next(bookids_sequence)"
   ]
  },
  {
   "cell_type": "code",
   "execution_count": 9,
   "metadata": {
    "collapsed": false
   },
   "outputs": [],
   "source": [
    "new_iids = []\n",
    "new_bookids = []\n",
    "for i, row in df.iterrows():\n",
    "    new_iids.append(iid_dict[row[\"Inmateid\"]])\n",
    "    new_bookids.append(bookid_dict[row[\"Bookingid\"]])\n",
    "    \n",
    "df['Inmateid'] = new_iids\n",
    "df['Bookingid'] = new_bookids\n",
    "df['Inmatefirst'] = [None] * len(df)\n",
    "df['InmateLast'] = [None] * len(df)"
   ]
  },
  {
   "cell_type": "code",
   "execution_count": 10,
   "metadata": {
    "collapsed": true
   },
   "outputs": [],
   "source": [
    "df.to_csv(output_path, index = False)"
   ]
  },
  {
   "cell_type": "code",
   "execution_count": null,
   "metadata": {
    "collapsed": true
   },
   "outputs": [],
   "source": []
  }
 ],
 "metadata": {
  "kernelspec": {
   "display_name": "Python 3",
   "language": "python",
   "name": "python3"
  },
  "language_info": {
   "codemirror_mode": {
    "name": "ipython",
    "version": 3
   },
   "file_extension": ".py",
   "mimetype": "text/x-python",
   "name": "python",
   "nbconvert_exporter": "python",
   "pygments_lexer": "ipython3",
   "version": "3.5.1"
  }
 },
 "nbformat": 4,
 "nbformat_minor": 0
}
