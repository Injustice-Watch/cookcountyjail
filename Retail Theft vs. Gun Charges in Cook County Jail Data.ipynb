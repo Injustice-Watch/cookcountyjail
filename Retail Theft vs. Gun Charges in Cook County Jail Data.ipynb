{
 "cells": [
  {
   "cell_type": "code",
   "execution_count": null,
   "metadata": {
    "collapsed": true
   },
   "outputs": [],
   "source": [
    "import dirtydata as dd\n",
    "import pandas as pd\n",
    "import numpy as np\n",
    "import datetime\n",
    "from statistics import mode"
   ]
  },
  {
   "cell_type": "code",
   "execution_count": null,
   "metadata": {
    "collapsed": false
   },
   "outputs": [],
   "source": [
    "chi_data = dd.DirtyData(\n",
    "    \"/Users/annahazard/Dropbox/Injustice_Watch/Cook County/Original Data/Second Request/Cook_County_May_31_2016.csv\", \"05/31/2016\", \"OriginalHeadings\", source_type = \"csv\",\n",
    "    crime_class_source = \"StandardizedCharges.csv\", has_index=False, index=None,\n",
    "    has_col_head=True, names=None, no_bond_indicator = \"Total\", crimes_standardized=True)"
   ]
  },
  {
   "cell_type": "code",
   "execution_count": null,
   "metadata": {
    "collapsed": true
   },
   "outputs": [],
   "source": [
    "not_pretrial = [\"SERVING SENTENCE\", \"WARRANT\", \"UNFIT AWAITING PLACEMENT\", \"NO REASON TO HOLD\", \"STATUS OF ALL CHARGES UNKNOWN\"]"
   ]
  },
  {
   "cell_type": "code",
   "execution_count": null,
   "metadata": {
    "collapsed": true
   },
   "outputs": [],
   "source": [
    "gun_charges = [\"ARMED HABITUAL CRIMINAL\", \\\n",
    "               \"ARMED ROBBERY\", \\\n",
    "               \"ARMED VIOLENCE\", \\\n",
    "               \"DEFACE FIREARM ID MARKINGS\", \\\n",
    "               \"ILLEGAL DISCHARGE OF A FIREARM: AGGRAVATED\", \\\n",
    "               \"ILLEGAL POSSESSION OF A FIREARM\", \\\n",
    "               \"POSSESSION OF A FIREARM / WEAPON BY A FELON\", \\\n",
    "               \"POSSESSION OF A FIREARM BY A GANG MEMBER\", \\\n",
    "               \"POSSESSION OF A STOLEN FIREARM\", \\\n",
    "               \"POSSESSION OF A STOLEN FIREARM: AGGRAVATED\", \\\n",
    "               \"RECKLESS DISCHARGE OF A FIREARM\", \\\n",
    "               \"UNLAWFUL POSSESSION OF A FIREARM\", \\\n",
    "               \"UNLAWFUL SALE OR DELIVERY OF FIREARMS\", \\\n",
    "               \"UNLAWFUL USE OF A WEAPON\", \\\n",
    "               \"UNLAWFUL USE OF A WEAPON: AGGRAVATED\"]"
   ]
  },
  {
   "cell_type": "code",
   "execution_count": null,
   "metadata": {
    "collapsed": true
   },
   "outputs": [],
   "source": [
    "retail_charges = [\"RETAIL THEFT\"]"
   ]
  },
  {
   "cell_type": "code",
   "execution_count": null,
   "metadata": {
    "collapsed": false
   },
   "outputs": [],
   "source": [
    "gun_highest = {}\n",
    "gun_only = {}\n",
    "gun_any = {}\n",
    "retail_only = {}\n",
    "retail_highest = {}\n",
    "retail_any = {}\n",
    "\n",
    "for iid, info in chi_data.individual_dict.items():\n",
    "    if info[\"Case Disposition\"] not in not_pretrial:\n",
    "        charge_list = []\n",
    "        charge_ranks = []\n",
    "        highest_retail_rank = float(\"-inf\")\n",
    "        highest_gun_rank = float(\"-inf\")\n",
    "        for charge in info[\"Charges\"]:\n",
    "            charge_list.append(charge[\"Charge Description\"])\n",
    "            charge_ranks.append(charge[\"Charge Rank\"])\n",
    "            if charge[\"Charge Description\"] in gun_charges:\n",
    "                gun_any[iid] = info\n",
    "                if charge[\"Charge Rank\"] > highest_gun_rank:\n",
    "                    highest_gun_rank = charge[\"Charge Rank\"]\n",
    "            if charge[\"Charge Description\"] in retail_charges:\n",
    "                retail_any[iid] = info\n",
    "                if charge[\"Charge Rank\"] > highest_retail_rank:\n",
    "                    highest_retail_rank = charge[\"Charge Rank\"]\n",
    "\n",
    "        if set(charge_list).issubset(set(retail_charges)):\n",
    "            retail_only[iid] = info\n",
    "\n",
    "        if set(charge_list).issubset(set(gun_charges)):\n",
    "            gun_only[iid] = info\n",
    "\n",
    "        if highest_gun_rank == max(charge_ranks):\n",
    "            gun_highest[iid] = info\n",
    "\n",
    "        if highest_retail_rank == max(charge_ranks):\n",
    "            retail_highest[iid] = info\n"
   ]
  },
  {
   "cell_type": "code",
   "execution_count": null,
   "metadata": {
    "collapsed": false
   },
   "outputs": [],
   "source": [
    "len(gun_only)"
   ]
  },
  {
   "cell_type": "code",
   "execution_count": null,
   "metadata": {
    "collapsed": false
   },
   "outputs": [],
   "source": [
    "len(gun_highest)"
   ]
  },
  {
   "cell_type": "code",
   "execution_count": null,
   "metadata": {
    "collapsed": false
   },
   "outputs": [],
   "source": [
    "len(gun_any)"
   ]
  },
  {
   "cell_type": "code",
   "execution_count": null,
   "metadata": {
    "collapsed": false
   },
   "outputs": [],
   "source": [
    "len(retail_only)"
   ]
  },
  {
   "cell_type": "code",
   "execution_count": null,
   "metadata": {
    "collapsed": false
   },
   "outputs": [],
   "source": [
    "len(retail_highest)"
   ]
  },
  {
   "cell_type": "code",
   "execution_count": null,
   "metadata": {
    "collapsed": false
   },
   "outputs": [],
   "source": [
    "len(retail_any)"
   ]
  },
  {
   "cell_type": "code",
   "execution_count": null,
   "metadata": {
    "collapsed": false
   },
   "outputs": [],
   "source": [
    "gun_only_days = 0\n",
    "gun_only_dlist = []\n",
    "gun_highest_days = 0\n",
    "gun_highest_dlist = []\n",
    "gun_any_days = 0\n",
    "gun_any_dlist = []\n",
    "retail_only_days = 0\n",
    "retail_only_dlist = []\n",
    "retail_highest_days = 0\n",
    "retail_highest_dlist = []\n",
    "retail_any_days = 0\n",
    "retail_any_dlist = []\n",
    "\n",
    "gun_any_higher_charges = []\n",
    "\n",
    "\n",
    "for iid, info in gun_only.items():\n",
    "    gun_only_days += info[\"Days in Custody from Last Admission\"]\n",
    "    gun_only_dlist.append(info[\"Days in Custody from Last Admission\"])\n",
    "    \n",
    "for iid, info in gun_highest.items():\n",
    "    gun_highest_days += info[\"Days in Custody from Last Admission\"]\n",
    "    gun_highest_dlist.append(info[\"Days in Custody from Last Admission\"])\n",
    "    \n",
    "for iid, info in gun_any.items():\n",
    "    gun_any_days += info[\"Days in Custody from Last Admission\"]\n",
    "    gun_any_dlist.append(info[\"Days in Custody from Last Admission\"])\n",
    "    if info[\"Highest Charge\"] not in gun_charges:\n",
    "        gun_any_higher_charges.append(info[\"Highest Charge\"])\n",
    "    \n",
    "for iid, info in retail_only.items():\n",
    "    retail_only_days += info[\"Days in Custody from Last Admission\"]\n",
    "    retail_only_dlist.append(info[\"Days in Custody from Last Admission\"])\n",
    "    \n",
    "for iid, info in retail_highest.items():\n",
    "    retail_highest_days += info[\"Days in Custody from Last Admission\"]\n",
    "    retail_highest_dlist.append(info[\"Days in Custody from Last Admission\"])\n",
    "    \n",
    "for iid, info in retail_any.items():\n",
    "    retail_any_days += info[\"Days in Custody from Last Admission\"]\n",
    "    retail_any_dlist.append(info[\"Days in Custody from Last Admission\"])"
   ]
  },
  {
   "cell_type": "code",
   "execution_count": null,
   "metadata": {
    "collapsed": false
   },
   "outputs": [],
   "source": [
    "avg_gun_only = gun_only_days/len(gun_only)\n",
    "avg_gun_highest = gun_highest_days / len(gun_highest)\n",
    "avg_gun_any = gun_any_days / len(gun_any)\n",
    "avg_retail_only = retail_only_days/len(retail_only)\n",
    "avg_retail_highest = retail_highest_days/len(retail_highest)\n",
    "avg_retail_any = retail_any_days/len(retail_any)"
   ]
  },
  {
   "cell_type": "code",
   "execution_count": null,
   "metadata": {
    "collapsed": false
   },
   "outputs": [],
   "source": [
    "print(avg_gun_only)\n",
    "print(avg_gun_highest)\n",
    "print(avg_gun_any)\n",
    "print(avg_retail_only)\n",
    "print(avg_retail_highest)\n",
    "print(avg_retail_any)"
   ]
  },
  {
   "cell_type": "code",
   "execution_count": null,
   "metadata": {
    "collapsed": true
   },
   "outputs": [],
   "source": [
    "mode_gun_only = mode(gun_only_dlist)\n",
    "mode_gun_highest = mode(gun_highest_dlist)\n",
    "mode_gun_any = mode(gun_any_dlist)\n",
    "mode_retail_only = mode(retail_only_dlist)\n",
    "mode_retail_highest = mode(retail_highest_dlist)\n",
    "mode_retail_any = mode(retail_any_dlist)"
   ]
  },
  {
   "cell_type": "code",
   "execution_count": null,
   "metadata": {
    "collapsed": false
   },
   "outputs": [],
   "source": [
    "print(mode_gun_only)\n",
    "print(mode_gun_highest)\n",
    "print(mode_gun_any)\n",
    "print(mode_retail_only)\n",
    "print(mode_retail_highest)\n",
    "print(mode_retail_any)"
   ]
  },
  {
   "cell_type": "code",
   "execution_count": null,
   "metadata": {
    "collapsed": false
   },
   "outputs": [],
   "source": [
    "retail_highest_dlist == retail_any_dlist"
   ]
  },
  {
   "cell_type": "code",
   "execution_count": null,
   "metadata": {
    "collapsed": false
   },
   "outputs": [],
   "source": [
    "gun_highest_dlist == gun_any_dlist"
   ]
  },
  {
   "cell_type": "code",
   "execution_count": null,
   "metadata": {
    "collapsed": false
   },
   "outputs": [],
   "source": [
    "set(gun_any_higher_charges)"
   ]
  },
  {
   "cell_type": "code",
   "execution_count": null,
   "metadata": {
    "collapsed": true
   },
   "outputs": [],
   "source": []
  }
 ],
 "metadata": {
  "kernelspec": {
   "display_name": "Python 3",
   "language": "python",
   "name": "python3"
  },
  "language_info": {
   "codemirror_mode": {
    "name": "ipython",
    "version": 3
   },
   "file_extension": ".py",
   "mimetype": "text/x-python",
   "name": "python",
   "nbconvert_exporter": "python",
   "pygments_lexer": "ipython3",
   "version": "3.5.1"
  }
 },
 "nbformat": 4,
 "nbformat_minor": 0
}
