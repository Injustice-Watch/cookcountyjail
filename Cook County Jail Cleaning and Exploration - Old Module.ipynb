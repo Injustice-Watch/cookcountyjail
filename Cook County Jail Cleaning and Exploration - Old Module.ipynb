{
 "cells": [
  {
   "cell_type": "code",
   "execution_count": 3,
   "metadata": {
    "collapsed": false
   },
   "outputs": [
    {
     "ename": "IndentationError",
     "evalue": "expected an indented block (dirty_data.py, line 626)",
     "output_type": "error",
     "traceback": [
      "\u001b[0;36m  File \u001b[0;32m\"/Users/annahazard/Dropbox/Injustice_Watch/Cook County/Data Cleaning/dirty_data.py\"\u001b[0;36m, line \u001b[0;32m626\u001b[0m\n\u001b[0;31m    '''\u001b[0m\n\u001b[0m       \n^\u001b[0m\n\u001b[0;31mIndentationError\u001b[0m\u001b[0;31m:\u001b[0m expected an indented block\n"
     ]
    }
   ],
   "source": [
    "import data_cleaning as cl\n",
    "import dirty_data as dd\n",
    "import pandas as pd\n",
    "import numpy as np\n",
    "import datetime\n",
    "import CityDict"
   ]
  },
  {
   "cell_type": "code",
   "execution_count": 2,
   "metadata": {
    "collapsed": false
   },
   "outputs": [
    {
     "ename": "NameError",
     "evalue": "name 'pd' is not defined",
     "output_type": "error",
     "traceback": [
      "\u001b[0;31m---------------------------------------------------------------------------\u001b[0m",
      "\u001b[0;31mNameError\u001b[0m                                 Traceback (most recent call last)",
      "\u001b[0;32m<ipython-input-2-d251e6711666>\u001b[0m in \u001b[0;36m<module>\u001b[0;34m()\u001b[0m\n\u001b[0;32m----> 1\u001b[0;31m \u001b[0mdf\u001b[0m \u001b[0;34m=\u001b[0m \u001b[0mpd\u001b[0m\u001b[0;34m.\u001b[0m\u001b[0mDataFrame\u001b[0m\u001b[0;34m(\u001b[0m\u001b[0;34m[\u001b[0m\u001b[0;34m]\u001b[0m\u001b[0;34m)\u001b[0m\u001b[0;34m\u001b[0m\u001b[0m\n\u001b[0m",
      "\u001b[0;31mNameError\u001b[0m: name 'pd' is not defined"
     ]
    }
   ],
   "source": [
    "df = pd.DataFrame([])"
   ]
  },
  {
   "cell_type": "markdown",
   "metadata": {},
   "source": [
    "### Dictionaries for Data Cleaning and Categorizations"
   ]
  },
  {
   "cell_type": "code",
   "execution_count": 5,
   "metadata": {
    "collapsed": false
   },
   "outputs": [],
   "source": [
    "chi = CityDict.cities"
   ]
  },
  {
   "cell_type": "markdown",
   "metadata": {},
   "source": [
    "### Prepare Sheriff Custody Data for May 31st, 2016"
   ]
  },
  {
   "cell_type": "code",
   "execution_count": 6,
   "metadata": {
    "collapsed": false
   },
   "outputs": [
    {
     "data": {
      "text/plain": [
       "{}"
      ]
     },
     "execution_count": 6,
     "metadata": {},
     "output_type": "execute_result"
    }
   ],
   "source": [
    "data1 = dd.DirtyData(\"/Users/annahazard/Dropbox/Injustice_Watch/Cook County/Original Data/Second Request/Cook_County_May_31_2016.csv\", 5, 31, 2016)\n",
    "data1.uppercase(\"ChargeDescription\")\n",
    "data1.uppercase(\"Inmatefirst\")\n",
    "data1.uppercase(\"InmateLast\")\n",
    "data1.uppercase(\"City\")\n",
    "data1.fill_zeroes(\"CurrentBond\")\n",
    "data1.fill_zeroes(\"TotalBond\")\n",
    "data1.numbify_currency(\"CurrentBond\")\n",
    "data1.numbify(\"TotalBond\")\n",
    "data1.process_dates(\"Last Admission Date\")\n",
    "data1.simuldict[\"City\"] = chi\n",
    "data1.build_replacements_from_simdict(\"City\")\n",
    "data1.check_label_validity(\"City\")"
   ]
  },
  {
   "cell_type": "code",
   "execution_count": 7,
   "metadata": {
    "collapsed": false
   },
   "outputs": [],
   "source": [
    "data1.read_crimes(\"StandardizedCharges.csv\")"
   ]
  },
  {
   "cell_type": "code",
   "execution_count": 8,
   "metadata": {
    "collapsed": false,
    "scrolled": true
   },
   "outputs": [
    {
     "name": "stdout",
     "output_type": "stream",
     "text": [
      "All rows successfully processed\n"
     ]
    }
   ],
   "source": [
    "data1.standardize_crime(\"Rows_with_undefined_crimes\")"
   ]
  },
  {
   "cell_type": "code",
   "execution_count": 9,
   "metadata": {
    "collapsed": false
   },
   "outputs": [],
   "source": [
    "data1.replace_column(\"City\")\n",
    "data1.init_individuals()"
   ]
  },
  {
   "cell_type": "code",
   "execution_count": 10,
   "metadata": {
    "collapsed": false,
    "scrolled": true
   },
   "outputs": [],
   "source": [
    "data1.post_process_individuals()"
   ]
  },
  {
   "cell_type": "markdown",
   "metadata": {},
   "source": [
    "### Write out db of individuals"
   ]
  },
  {
   "cell_type": "code",
   "execution_count": 11,
   "metadata": {
    "collapsed": false
   },
   "outputs": [
    {
     "data": {
      "text/plain": [
       "6059468"
      ]
     },
     "execution_count": 11,
     "metadata": {},
     "output_type": "execute_result"
    }
   ],
   "source": [
    "f = open(\"CookCounty05312016.py\", \"w\")\n",
    "f.write(str(data1.individual_dict))"
   ]
  },
  {
   "cell_type": "markdown",
   "metadata": {},
   "source": [
    "### Count Inmates by Reason for Custody"
   ]
  },
  {
   "cell_type": "code",
   "execution_count": 12,
   "metadata": {
    "collapsed": true
   },
   "outputs": [],
   "source": [
    "count_1 = 0\n",
    "indices_1 = []\n",
    "count_2 = 0\n",
    "indices_2 = []\n",
    "count_3 = 0\n",
    "indices_3 = []\n",
    "count_4 = 0\n",
    "indices_4 = []\n",
    "count_5 = 0\n",
    "indices_5 = []\n",
    "count_6 = 0\n",
    "indices_6 = []\n",
    "count_7 = 0\n",
    "indices_7 = []\n",
    "count_8 = 0\n",
    "indices_8 = []\n",
    "\n",
    "for iid, info in data1.individual_dict.items():\n",
    "    if info[\"Reason for Custody\"] == \"SERVING SENTENCE\":\n",
    "        count_1 += 1\n",
    "        indices_1.extend(info[\"Indices\"])\n",
    "    elif info[\"Reason for Custody\"] == \"PRETRIAL, FAILURE TO PLACE\":\n",
    "        count_2 += 1\n",
    "        indices_2.extend(info[\"Indices\"])\n",
    "    elif info[\"Reason for Custody\"] == \"PRETRIAL, NO BOND\":\n",
    "        count_3 += 1\n",
    "        indices_3.extend(info[\"Indices\"])\n",
    "    elif info[\"Reason for Custody\"] == \"PRETRIAL, FAILURE TO PAY\":\n",
    "        count_4 += 1\n",
    "        indices_4.extend(info[\"Indices\"])\n",
    "    elif info[\"Reason for Custody\"] == \"WARRANT\":\n",
    "        count_5 += 1\n",
    "        indices_5.extend(info[\"Indices\"])\n",
    "    elif info[\"Reason for Custody\"] == \"UNFIT AWAITING PLACEMENT\":\n",
    "        count_6 += 1\n",
    "        indices_6.extend(info[\"Indices\"])\n",
    "    elif info[\"Reason for Custody\"] == \"NO REASON TO HOLD\":\n",
    "        count_7 += 1\n",
    "        indices_7.extend(info[\"Indices\"])\n",
    "    elif info[\"Reason for Custody\"] == \"STATUS OF ALL CHARGES UNKNOWN\":\n",
    "        count_8 += 1\n",
    "        indices_8.extend(info[\"Indices\"])"
   ]
  },
  {
   "cell_type": "code",
   "execution_count": 13,
   "metadata": {
    "collapsed": false
   },
   "outputs": [],
   "source": [
    "NoPaySubset = data1.make_subset(indices_4)\n",
    "NoPaySubset.count_by_highest_charge()"
   ]
  },
  {
   "cell_type": "code",
   "execution_count": 14,
   "metadata": {
    "collapsed": true
   },
   "outputs": [],
   "source": [
    "NoBondSubset = data1.make_subset(indices_3)\n",
    "NoBondSubset.count_by_highest_charge()"
   ]
  },
  {
   "cell_type": "code",
   "execution_count": 15,
   "metadata": {
    "collapsed": false
   },
   "outputs": [
    {
     "data": {
      "text/plain": [
       "2648"
      ]
     },
     "execution_count": 15,
     "metadata": {},
     "output_type": "execute_result"
    }
   ],
   "source": [
    "NoPaySubset.FX"
   ]
  },
  {
   "cell_type": "code",
   "execution_count": 16,
   "metadata": {
    "collapsed": true
   },
   "outputs": [],
   "source": [
    "data1.count_by_highest_charge()"
   ]
  },
  {
   "cell_type": "code",
   "execution_count": 17,
   "metadata": {
    "collapsed": false
   },
   "outputs": [
    {
     "data": {
      "text/plain": [
       "3693"
      ]
     },
     "execution_count": 17,
     "metadata": {},
     "output_type": "execute_result"
    }
   ],
   "source": [
    "data1.FX"
   ]
  },
  {
   "cell_type": "code",
   "execution_count": 19,
   "metadata": {
    "collapsed": false
   },
   "outputs": [
    {
     "data": {
      "text/plain": [
       "1081"
      ]
     },
     "execution_count": 19,
     "metadata": {},
     "output_type": "execute_result"
    }
   ],
   "source": [
    "len(NoBondSubset.individual_dict)"
   ]
  },
  {
   "cell_type": "code",
   "execution_count": 30,
   "metadata": {
    "collapsed": false
   },
   "outputs": [],
   "source": [
    "indices = []\n",
    "count = 0\n",
    "for iid, info in NoBondSubset.individual_dict.items():\n",
    "    if info[\"Charge Rank\"] < 12:\n",
    "        count += 1\n",
    "        indices.extend(info[\"Indices\"])"
   ]
  },
  {
   "cell_type": "code",
   "execution_count": 31,
   "metadata": {
    "collapsed": false
   },
   "outputs": [
    {
     "data": {
      "text/plain": [
       "373"
      ]
     },
     "execution_count": 31,
     "metadata": {},
     "output_type": "execute_result"
    }
   ],
   "source": [
    "count"
   ]
  },
  {
   "cell_type": "code",
   "execution_count": 27,
   "metadata": {
    "collapsed": false
   },
   "outputs": [],
   "source": [
    "row_list = []\n",
    "for i in indices:\n",
    "    row_list.append(data1.df.iloc[i])\n",
    "    \n",
    "NonXNoBond = pd.DataFrame(row_list)"
   ]
  },
  {
   "cell_type": "code",
   "execution_count": 29,
   "metadata": {
    "collapsed": false
   },
   "outputs": [],
   "source": [
    "NonXNoBond.to_csv(\"Lower Level Crimes No Bond.csv\", index=False)"
   ]
  },
  {
   "cell_type": "markdown",
   "metadata": {},
   "source": [
    "### Examine No-Bond Cases"
   ]
  },
  {
   "cell_type": "code",
   "execution_count": null,
   "metadata": {
    "collapsed": false
   },
   "outputs": [],
   "source": [
    "indices = []\n",
    "for iid, info in data1.individual_dict.items():\n",
    "    if info[\"Total Bond\"] == 0:\n",
    "        indices.extend(info[\"Indices\"])\n",
    "        \n",
    "data = data1.df\n",
    "row_list = []\n",
    "for i in indices:\n",
    "    row_list.append(data.iloc[i])\n",
    "    \n",
    "df = pd.DataFrame(row_list)\n",
    "df.to_csv(\"../Output/No_Bond_Given.csv\", index=False)"
   ]
  },
  {
   "cell_type": "markdown",
   "metadata": {},
   "source": [
    "### Retail Theft Cases"
   ]
  },
  {
   "cell_type": "code",
   "execution_count": null,
   "metadata": {
    "collapsed": true
   },
   "outputs": [],
   "source": [
    "all_time = 0\n",
    "count = 0\n",
    "for iid, info in data1.individual_dict.items():\n",
    "    if info[\"Highest Level Charge\"] == 'RETAIL THEFT':\n",
    "        count += 1\n",
    "        all_time += info[\"Days in Custody from Last Admission\"]\n",
    "avg_time = all_time/count"
   ]
  },
  {
   "cell_type": "code",
   "execution_count": null,
   "metadata": {
    "collapsed": false
   },
   "outputs": [],
   "source": [
    "avg_time, count"
   ]
  },
  {
   "cell_type": "code",
   "execution_count": null,
   "metadata": {
    "collapsed": false
   },
   "outputs": [],
   "source": [
    "all_time = 0\n",
    "count = 0\n",
    "all_charges = 0\n",
    "indices = []\n",
    "data = data1.df\n",
    "\n",
    "for iid, info in data1.individual_dict.items():\n",
    "    if info[\"Highest Level Charge\"] == 'RETAIL THEFT' \\\n",
    "    and info[\"Days in Custody from Last Admission\"] > 120:\n",
    "        count += 1\n",
    "        all_charges += info[\"Number of Charges\"]\n",
    "        all_time += info[\"Days in Custody from Last Admission\"]\n",
    "        indices.extend(info[\"Indices\"])\n",
    "\n",
    "row_list = []\n",
    "for i in indices:\n",
    "    row_list.append(data.iloc[i])\n",
    "    \n",
    "df = pd.DataFrame(row_list)\n",
    "df.to_csv(\"../Output/Retail_Theft_Over_120_Days.csv\", index=False)\n",
    "        \n",
    "avg_numcharge = all_charges/count"
   ]
  },
  {
   "cell_type": "code",
   "execution_count": null,
   "metadata": {
    "collapsed": false
   },
   "outputs": [],
   "source": [
    "avg_numcharge, count"
   ]
  },
  {
   "cell_type": "markdown",
   "metadata": {},
   "source": [
    "### DUI Cases"
   ]
  },
  {
   "cell_type": "markdown",
   "metadata": {},
   "source": [
    "#### Regular DUI"
   ]
  },
  {
   "cell_type": "code",
   "execution_count": null,
   "metadata": {
    "collapsed": true
   },
   "outputs": [],
   "source": [
    "all_time = 0\n",
    "count = 0\n",
    "for iid, info in data1.individual_dict.items():\n",
    "    if info[\"Highest Level Charge\"] == 'DUI':\n",
    "        count += 1\n",
    "        all_time += info[\"Days in Custody from Last Admission\"]\n",
    "avg_time_dui = all_time/count"
   ]
  },
  {
   "cell_type": "code",
   "execution_count": null,
   "metadata": {
    "collapsed": false
   },
   "outputs": [],
   "source": [
    "avg_time, count"
   ]
  },
  {
   "cell_type": "code",
   "execution_count": null,
   "metadata": {
    "collapsed": true
   },
   "outputs": [],
   "source": [
    "all_time = 0\n",
    "count = 0\n",
    "all_charges = 0\n",
    "indices = []\n",
    "data = data1.df\n",
    "\n",
    "for iid, info in data1.individual_dict.items():\n",
    "    if info[\"Highest Level Charge\"] == 'DUI' \\\n",
    "    and info[\"Days in Custody from Last Admission\"] > 120:\n",
    "        count += 1\n",
    "        all_charges += info[\"Number of Charges\"]\n",
    "        all_time += info[\"Days in Custody from Last Admission\"]\n",
    "        indices.extend(info[\"Indices\"])\n",
    "\n",
    "row_list = []\n",
    "for i in indices:\n",
    "    row_list.append(data.iloc[i])\n",
    "    \n",
    "df = pd.DataFrame(row_list)\n",
    "df.to_csv(\"../Output/DUI_Over_120_Days.csv\", index=False)\n",
    "        \n",
    "avg_numcharge = all_charges/count"
   ]
  },
  {
   "cell_type": "code",
   "execution_count": null,
   "metadata": {
    "collapsed": false
   },
   "outputs": [],
   "source": [
    "count"
   ]
  },
  {
   "cell_type": "markdown",
   "metadata": {},
   "source": [
    "#### Aggravated DUI"
   ]
  },
  {
   "cell_type": "code",
   "execution_count": null,
   "metadata": {
    "collapsed": true
   },
   "outputs": [],
   "source": [
    "all_time = 0\n",
    "count = 0\n",
    "for iid, info in data1.individual_dict.items():\n",
    "    if info[\"Highest Level Charge\"] == 'DUI: AGGRAVATED':\n",
    "        count += 1\n",
    "        all_time += info[\"Days in Custody from Last Admission\"]\n",
    "avg_time = all_time/count"
   ]
  },
  {
   "cell_type": "code",
   "execution_count": null,
   "metadata": {
    "collapsed": false
   },
   "outputs": [],
   "source": [
    "avg_time, count"
   ]
  },
  {
   "cell_type": "code",
   "execution_count": null,
   "metadata": {
    "collapsed": true
   },
   "outputs": [],
   "source": [
    "all_time = 0\n",
    "count = 0\n",
    "all_charges = 0\n",
    "indices = []\n",
    "data = data1.df\n",
    "\n",
    "for iid, info in data1.individual_dict.items():\n",
    "    if info[\"Highest Level Charge\"] == 'DUI: AGGRAVATED' \\\n",
    "    and info[\"Days in Custody from Last Admission\"] > 120:\n",
    "        count += 1\n",
    "        all_charges += info[\"Number of Charges\"]\n",
    "        all_time += info[\"Days in Custody from Last Admission\"]\n",
    "        indices.extend(info[\"Indices\"])\n",
    "\n",
    "row_list = []\n",
    "for i in indices:\n",
    "    row_list.append(data.iloc[i])\n",
    "    \n",
    "df = pd.DataFrame(row_list)\n",
    "df.to_csv(\"../Output/Agg_DUI_Over_120_Days.csv\", index=False)\n",
    "        \n",
    "avg_numcharge = all_charges/count"
   ]
  },
  {
   "cell_type": "code",
   "execution_count": null,
   "metadata": {
    "collapsed": false
   },
   "outputs": [],
   "source": [
    "count"
   ]
  },
  {
   "cell_type": "markdown",
   "metadata": {},
   "source": [
    "### Get List of Unique Case Statuses"
   ]
  },
  {
   "cell_type": "code",
   "execution_count": null,
   "metadata": {
    "collapsed": false
   },
   "outputs": [],
   "source": [
    "len(data1.individual_dict)"
   ]
  },
  {
   "cell_type": "code",
   "execution_count": null,
   "metadata": {
    "collapsed": false
   },
   "outputs": [],
   "source": [
    "data1.get_unique_multi([\"casedisposition\"], write_to=\"Unique Case Dispositions.csv\")"
   ]
  },
  {
   "cell_type": "markdown",
   "metadata": {},
   "source": [
    "### Time vs. Charge"
   ]
  },
  {
   "cell_type": "code",
   "execution_count": null,
   "metadata": {
    "collapsed": false
   },
   "outputs": [],
   "source": [
    "count, data = data1.find_stay_vs_class(charge_above=\"4\", days_above=365, write_to=\"../Output/2016-07-06 Time vs Charge/At Least Class 3 Felony and Stay >1 year.csv\")"
   ]
  },
  {
   "cell_type": "code",
   "execution_count": null,
   "metadata": {
    "collapsed": false
   },
   "outputs": [],
   "source": [
    "data1.individual_dict"
   ]
  },
  {
   "cell_type": "code",
   "execution_count": null,
   "metadata": {
    "collapsed": false
   },
   "outputs": [],
   "source": [
    "count"
   ]
  },
  {
   "cell_type": "code",
   "execution_count": null,
   "metadata": {
    "collapsed": true
   },
   "outputs": [],
   "source": [
    "count2, data2 = data1.find_stay_vs_class(charge_above=\"NONE\", charge_below=\"A\", days_above=365, write_to=\"../Output/2016-07-21 Time vs Charge/At or Below Class A Misdemeanor and Stay >1 year.csv\")"
   ]
  },
  {
   "cell_type": "code",
   "execution_count": null,
   "metadata": {
    "collapsed": false
   },
   "outputs": [],
   "source": [
    "count2"
   ]
  },
  {
   "cell_type": "code",
   "execution_count": null,
   "metadata": {
    "collapsed": true
   },
   "outputs": [],
   "source": [
    "count3, data3 = data1.find_stay_vs_class(charge_below=\"B\", charge_above=\"NONE\", days_above=186, write_to=\"../Output/2016-07-06 Time vs Charge/At or Below Class B Misdemeanor and Stay >6 Months.csv\")"
   ]
  },
  {
   "cell_type": "code",
   "execution_count": null,
   "metadata": {
    "collapsed": false
   },
   "outputs": [],
   "source": [
    "count3"
   ]
  },
  {
   "cell_type": "code",
   "execution_count": null,
   "metadata": {
    "collapsed": false
   },
   "outputs": [],
   "source": [
    "count4, data4 = data1.find_stay_vs_class(charge_below=\"C\", charge_above=\"NONE\", days_above=30, write_to=\"../Output/2016-07-06 Time vs Charge/At or Below Class C Misdemeanor and Stay >30 Days.csv\")"
   ]
  },
  {
   "cell_type": "code",
   "execution_count": null,
   "metadata": {
    "collapsed": false
   },
   "outputs": [],
   "source": [
    "count4"
   ]
  },
  {
   "cell_type": "code",
   "execution_count": null,
   "metadata": {
    "collapsed": true
   },
   "outputs": [],
   "source": [
    "count5, data5 = data1.find_stay_vs_class(charge_above=\"NONE\", charge_below=\"C\", days_above=120, write_to=\"../Output/2016-07-06 Time vs Charge/At or Below Class C Misdemeanor and Stay >120 Days.csv\")"
   ]
  },
  {
   "cell_type": "code",
   "execution_count": null,
   "metadata": {
    "collapsed": false
   },
   "outputs": [],
   "source": [
    "count5"
   ]
  },
  {
   "cell_type": "code",
   "execution_count": null,
   "metadata": {
    "collapsed": true
   },
   "outputs": [],
   "source": [
    "count6, data6 = data1.find_stay_vs_class(charge_above=\"A\", days_above=365, write_to=\"../Output/2016-07-06 Time vs Charge/At Least Class 4 Felony and Stay >1 year.csv\")"
   ]
  },
  {
   "cell_type": "code",
   "execution_count": null,
   "metadata": {
    "collapsed": false
   },
   "outputs": [],
   "source": [
    "count6"
   ]
  },
  {
   "cell_type": "code",
   "execution_count": null,
   "metadata": {
    "collapsed": true
   },
   "outputs": [],
   "source": [
    "count7, data7 = data1.find_stay_vs_class(charge_above=\"4\", days_above=730, write_to=\"../Output/2016-07-06 Time vs Charge/At Least Class 3 Felony and Stay >2 years.csv\")"
   ]
  },
  {
   "cell_type": "code",
   "execution_count": null,
   "metadata": {
    "collapsed": false
   },
   "outputs": [],
   "source": [
    "count7"
   ]
  },
  {
   "cell_type": "code",
   "execution_count": null,
   "metadata": {
    "collapsed": true
   },
   "outputs": [],
   "source": [
    "count8, data8 = data1.find_stay_vs_class(charge_above=\"4\", days_above=1095, write_to=\"../Output/2016-07-06 Time vs Charge/At Least Class 3 Felony and Stay >3 years.csv\")"
   ]
  },
  {
   "cell_type": "code",
   "execution_count": null,
   "metadata": {
    "collapsed": false
   },
   "outputs": [],
   "source": [
    "count8"
   ]
  },
  {
   "cell_type": "code",
   "execution_count": null,
   "metadata": {
    "collapsed": true
   },
   "outputs": [],
   "source": [
    "coun9, data9 = data1.find_stay_vs_class(charge_above=\"4\", days_above=1460, write_to=\"../Output/2016-07-06 Time vs Charge/At Least Class 3 Felony and Stay >4 years.csv\")"
   ]
  },
  {
   "cell_type": "code",
   "execution_count": null,
   "metadata": {
    "collapsed": false
   },
   "outputs": [],
   "source": [
    "coun9"
   ]
  },
  {
   "cell_type": "code",
   "execution_count": null,
   "metadata": {
    "collapsed": false
   },
   "outputs": [],
   "source": [
    "dead_count = 0\n",
    "dead_total = 0\n",
    "indices = []\n",
    "for temp_id, info in data1.individual_dict.items():\n",
    "    if info[\"Dead Time\"]>0 and info[\"Highest Level Charge Class\"] != \"NONE\" and info[\"Highest Level Charge Class\"] != \"CONTEMPT\":\n",
    "        dead_count += 1\n",
    "        dead_total += info[\"Dead Time\"]\n",
    "        indices.extend(info[\"Indices\"])\n",
    "\n",
    "row_list = []\n",
    "for index in indices:\n",
    "    row_list.append(data1.df.iloc[index])\n",
    "    mini_df = pd.DataFrame(row_list)\n",
    "    mini_df.to_csv(\"../Output/2016-07-06 Time vs Charge/People serving dead jail time.csv\", index=False)"
   ]
  },
  {
   "cell_type": "code",
   "execution_count": null,
   "metadata": {
    "collapsed": true
   },
   "outputs": [],
   "source": [
    "count, data = data1.find_stay_vs_class(charge_above=\"1\", charge_below= \"X\", days_above=365*4, write_to=\"../Output/2016-07-06 Time vs Charge/Highest Charge Class X, Stay >4 Years.csv\")"
   ]
  },
  {
   "cell_type": "code",
   "execution_count": null,
   "metadata": {
    "collapsed": false
   },
   "outputs": [],
   "source": [
    "count"
   ]
  },
  {
   "cell_type": "code",
   "execution_count": null,
   "metadata": {
    "collapsed": true
   },
   "outputs": [],
   "source": [
    "count, data = data1.find_stay_vs_class(charge_above=\"2\", charge_below= \"1\", days_above=365*4, write_to=\"../Output/2016-07-06 Time vs Charge/Highest Charge Class 1, Stay >4 Years.csv\")"
   ]
  },
  {
   "cell_type": "code",
   "execution_count": null,
   "metadata": {
    "collapsed": false
   },
   "outputs": [],
   "source": [
    "count"
   ]
  },
  {
   "cell_type": "code",
   "execution_count": null,
   "metadata": {
    "collapsed": true
   },
   "outputs": [],
   "source": [
    "count, data = data1.find_stay_vs_class(charge_above=\"3\", charge_below= \"2\", days_above=365*4, write_to=\"../Output/2016-07-21 Time vs Charge/Highest Charge Class 2, Stay >4 Years.csv\")"
   ]
  },
  {
   "cell_type": "code",
   "execution_count": null,
   "metadata": {
    "collapsed": false
   },
   "outputs": [],
   "source": [
    "count"
   ]
  },
  {
   "cell_type": "code",
   "execution_count": null,
   "metadata": {
    "collapsed": true
   },
   "outputs": [],
   "source": [
    "count, data = data1.find_stay_vs_class(charge_above=\"4\", charge_below= \"3\", days_above=365*2, write_to=\"../Output/2016-07-21 Time vs Charge/Highest Charge Class 3, Stay >2 Years.csv\")"
   ]
  },
  {
   "cell_type": "code",
   "execution_count": null,
   "metadata": {
    "collapsed": false
   },
   "outputs": [],
   "source": [
    "count"
   ]
  },
  {
   "cell_type": "code",
   "execution_count": null,
   "metadata": {
    "collapsed": true
   },
   "outputs": [],
   "source": [
    "count, data = data1.find_stay_vs_class(charge_above=\"A\", charge_below= \"4\", days_above=365, write_to=\"../Output/2016-07-21 Time vs Charge/Highest Charge Class 4, Stay >1 Year.csv\")"
   ]
  },
  {
   "cell_type": "code",
   "execution_count": null,
   "metadata": {
    "collapsed": false
   },
   "outputs": [],
   "source": [
    "count"
   ]
  },
  {
   "cell_type": "code",
   "execution_count": null,
   "metadata": {
    "collapsed": true
   },
   "outputs": [],
   "source": [
    "count, data = data1.find_stay_vs_class(charge_above=\"B\", charge_below= \"A\", days_above=14, write_to=\"../Output/2016-07-21 Time vs Charge/Highest Charge Class A, Stay >14 Days.csv\")"
   ]
  },
  {
   "cell_type": "code",
   "execution_count": null,
   "metadata": {
    "collapsed": false
   },
   "outputs": [],
   "source": [
    "count"
   ]
  },
  {
   "cell_type": "code",
   "execution_count": null,
   "metadata": {
    "collapsed": true
   },
   "outputs": [],
   "source": [
    "count, data = data1.find_stay_vs_class(charge_above=\"C\", charge_below= \"B\", days_above=14, write_to=\"../Output/2016-07-21 Time vs Charge/Highest Charge Class B, Stay >14 Days.csv\")"
   ]
  },
  {
   "cell_type": "code",
   "execution_count": null,
   "metadata": {
    "collapsed": false
   },
   "outputs": [],
   "source": [
    "count"
   ]
  },
  {
   "cell_type": "code",
   "execution_count": null,
   "metadata": {
    "collapsed": true
   },
   "outputs": [],
   "source": [
    "count, data = data1.find_stay_vs_class(charge_above=\"LOCAL\", charge_below= \"C\", days_above=14, write_to=\"../Output/2016-07-21 Time vs Charge/Highest Charge Class C or Below, Stay >14 Days.csv\")"
   ]
  },
  {
   "cell_type": "code",
   "execution_count": null,
   "metadata": {
    "collapsed": false
   },
   "outputs": [],
   "source": [
    "count"
   ]
  },
  {
   "cell_type": "code",
   "execution_count": null,
   "metadata": {
    "collapsed": false
   },
   "outputs": [],
   "source": [
    "count, data = data1.find_stay_vs_bond(bond_above=1500, bond_below=2500, days_above=4, days_below=float(\"inf\"),  write_to=\"../Output/2016-07-21 Time vs Charge/Bond between 1500 and 2500, Stay >4 Days.csv\")"
   ]
  },
  {
   "cell_type": "code",
   "execution_count": null,
   "metadata": {
    "collapsed": false
   },
   "outputs": [],
   "source": [
    "count"
   ]
  },
  {
   "cell_type": "code",
   "execution_count": null,
   "metadata": {
    "collapsed": true
   },
   "outputs": [],
   "source": [
    "count, data = data1.find_stay_vs_bond(bond_above=0, bond_below=1500, days_above=4, days_below=float(\"inf\"),  write_to=\"../Output/2016-07-21 Time vs Charge/Bond at or below 1500, Stay >4 Days.csv\")"
   ]
  },
  {
   "cell_type": "code",
   "execution_count": null,
   "metadata": {
    "collapsed": false
   },
   "outputs": [],
   "source": [
    "count"
   ]
  },
  {
   "cell_type": "markdown",
   "metadata": {},
   "source": [
    "### Prepare Sheriff EM Data for May 31st, 2016"
   ]
  },
  {
   "cell_type": "code",
   "execution_count": null,
   "metadata": {
    "collapsed": false
   },
   "outputs": [],
   "source": [
    "data2 = dd.DirtyData(\"Data/Original_May_31_Sheriff_Data_EM.csv\", 5, 31, 2016)\n",
    "data2.uppercase(\"ChargeDescription\")\n",
    "data2.uppercase(\"Inmatefirst\")\n",
    "data2.uppercase(\"InmateLast\")\n",
    "data2.uppercase(\"City\")\n",
    "data2.fill_zeroes(\"CurrentBond\")\n",
    "data2.fill_zeroes(\"TotalBond\")\n",
    "data2.numbify(\"CurrentBond\")\n",
    "data2.numbify(\"TotalBond\")\n",
    "data2.process_dates(\"Last Admission Date\")\n",
    "data2.simuldict[\"City\"] = chi\n",
    "data2.build_replacements_from_simdict(\"City\")\n",
    "data2.check_label_validity(\"City\")"
   ]
  },
  {
   "cell_type": "code",
   "execution_count": null,
   "metadata": {
    "collapsed": false
   },
   "outputs": [],
   "source": [
    "data2.replace_column(\"City\")\n",
    "data2.init_individuals()"
   ]
  },
  {
   "cell_type": "markdown",
   "metadata": {},
   "source": [
    "### Defining Charges Categories"
   ]
  },
  {
   "cell_type": "code",
   "execution_count": null,
   "metadata": {
    "collapsed": false
   },
   "outputs": [],
   "source": [
    "data1.get_unique_multi([\"Statute\"], write_to=\"Unique Statutes CCDOC.csv\")"
   ]
  },
  {
   "cell_type": "markdown",
   "metadata": {},
   "source": [
    "### Bond vs. Stay Duration"
   ]
  },
  {
   "cell_type": "code",
   "execution_count": null,
   "metadata": {
    "collapsed": false
   },
   "outputs": [],
   "source": [
    "discrep1 = data1.detect_bond_discrepencies(remove=True)"
   ]
  },
  {
   "cell_type": "code",
   "execution_count": null,
   "metadata": {
    "collapsed": false
   },
   "outputs": [],
   "source": [
    "bond_buckets = [1000, 10000, 20000, 30000, 40000, 50000, 75000, 90000, 100000, 150000, 200000, 250000, 300000, 500000]"
   ]
  },
  {
   "cell_type": "code",
   "execution_count": null,
   "metadata": {
    "collapsed": false
   },
   "outputs": [],
   "source": [
    "time_buckets = np.arange(0, 3650, 120)"
   ]
  },
  {
   "cell_type": "code",
   "execution_count": null,
   "metadata": {
    "collapsed": false
   },
   "outputs": [],
   "source": [
    "column_headers = []\n",
    "row_headers = []\n",
    "numb_grid = []\n",
    "dict_grid = []\n",
    "\n",
    "for i, low_b in enumerate(bond_buckets):\n",
    "    if len(bond_buckets) <= i+1:\n",
    "        high_b = float(\"inf\")\n",
    "    else:\n",
    "        high_b = bond_buckets[i+1]\n",
    "        \n",
    "    row_headers.append(str(\"%s to %s dollars\" % (low_b, high_b)))\n",
    "    numb_row = []\n",
    "    dict_row = []\n",
    "    \n",
    "    for j, low_t in enumerate(time_buckets):\n",
    "        if len(time_buckets) <= j+1:\n",
    "            high_t = float(\"inf\")\n",
    "        else:\n",
    "            high_t = time_buckets[j+1]\n",
    "        if i==0:\n",
    "            column_headers.append(str(\"%s to %s days in custody\" % (low_t, high_t)))\n",
    "        count, people_dict = data1.find_stay_vs_bond(bond_above = low_b, bond_below= high_b, \\\n",
    "                                                     days_above = low_t, days_below = high_t)\n",
    "        numb_row.append(count)\n",
    "        dict_grid.append(people_dict)\n",
    "    numb_grid.append(numb_row)\n",
    "    dict_grid.append(dict_row)"
   ]
  },
  {
   "cell_type": "code",
   "execution_count": null,
   "metadata": {
    "collapsed": true
   },
   "outputs": [],
   "source": [
    "counts = pd.DataFrame(numb_grid, index=row_headers, columns = column_headers)"
   ]
  },
  {
   "cell_type": "code",
   "execution_count": null,
   "metadata": {
    "collapsed": false
   },
   "outputs": [],
   "source": [
    "counts.to_csv(\"Jail Occupants by Time and Bail - Smaller.csv\")"
   ]
  },
  {
   "cell_type": "code",
   "execution_count": null,
   "metadata": {
    "collapsed": false
   },
   "outputs": [],
   "source": [
    "count, people_dict = data1.find_stay_vs_bond(bond_above = -1, bond_below= float(\"inf\"), \\\n",
    "                                                     days_above = 365, days_below = float(\"inf\"))"
   ]
  },
  {
   "cell_type": "code",
   "execution_count": null,
   "metadata": {
    "collapsed": false
   },
   "outputs": [],
   "source": [
    "count"
   ]
  },
  {
   "cell_type": "code",
   "execution_count": null,
   "metadata": {
    "collapsed": true
   },
   "outputs": [],
   "source": [
    "new_grid = []\n",
    "for temp_id, info in people_dict.items():\n",
    "    row = []\n",
    "    row.append(info[\"Last Name\"])\n",
    "    row.append(info[\"First Name\"])\n",
    "    row.append(info[\"Total Bond\"])\n",
    "    "
   ]
  }
 ],
 "metadata": {
  "kernelspec": {
   "display_name": "Python 3",
   "language": "python",
   "name": "python3"
  },
  "language_info": {
   "codemirror_mode": {
    "name": "ipython",
    "version": 3
   },
   "file_extension": ".py",
   "mimetype": "text/x-python",
   "name": "python",
   "nbconvert_exporter": "python",
   "pygments_lexer": "ipython3",
   "version": "3.5.1"
  }
 },
 "nbformat": 4,
 "nbformat_minor": 0
}
