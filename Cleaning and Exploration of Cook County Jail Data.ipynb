{
 "cells": [
  {
   "cell_type": "code",
   "execution_count": null,
   "metadata": {
    "collapsed": false
   },
   "outputs": [],
   "source": [
    "import dirtydata as dd\n",
    "import pandas as pd\n",
    "import numpy as np\n",
    "import datetime\n",
    "from statistics import mode"
   ]
  },
  {
   "cell_type": "code",
   "execution_count": null,
   "metadata": {
    "collapsed": false,
    "scrolled": true
   },
   "outputs": [],
   "source": [
    "chi_data = dd.DirtyData(\n",
    "    \"/Users/annahazard/Dropbox/Injustice_Watch/Cook County/Original Data/Second Request/Cook_County_May_31_2016.csv\", \"05/31/2016\", \"OriginalHeadings\", source_type = \"csv\",\n",
    "    crime_class_source = \"StandardizedCharges.csv\", has_index=False, index=None,\n",
    "    has_col_head=True, names=None, no_bond_indicator = \"Total\", crimes_standardized=True)"
   ]
  },
  {
   "cell_type": "code",
   "execution_count": null,
   "metadata": {
    "collapsed": false
   },
   "outputs": [],
   "source": [
    "without_placement = 0\n",
    "no_bond = 0\n",
    "unable_to_pay = 0\n",
    "unable_to_pay_amt = 0\n",
    "unable_to_pay_bonds = []\n",
    "unable_to_pay_amt_mis = 0\n",
    "unable_to_pay_mis_bonds = []\n",
    "no_pay_mis = {}\n",
    "no_bond_indi = {}\n",
    "\n",
    "for iid, info in chi_data.individual_dict.items():\n",
    "    if info[\"Case Disposition\"] == \"PRETRIAL, FAILURE TO PLACE\":\n",
    "        without_placement += 1\n",
    "    if info[\"Case Disposition\"] == \"PRETRIAL, FAILURE TO PAY\":\n",
    "        unable_to_pay += 1\n",
    "        unable_to_pay_amt += info[\"Total Bond\"]\n",
    "        unable_to_pay_bonds.append(info[\"Total Bond\"])\n",
    "        if info[\"Charge Rank\"] < 8:\n",
    "            no_pay_mis[iid] = info\n",
    "            unable_to_pay_amt_mis += info[\"Total Bond\"]\n",
    "            unable_to_pay_mis_bonds.append(info[\"Total Bond\"])\n",
    "    if info[\"Case Disposition\"] == \"PRETRIAL, NO BOND\":\n",
    "        no_bond += 1\n",
    "        no_bond_indi[iid] = info"
   ]
  },
  {
   "cell_type": "code",
   "execution_count": null,
   "metadata": {
    "collapsed": false
   },
   "outputs": [],
   "source": [
    "total = len(chi_data.individual_dict)"
   ]
  },
  {
   "cell_type": "code",
   "execution_count": null,
   "metadata": {
    "collapsed": false
   },
   "outputs": [],
   "source": [
    "total"
   ]
  },
  {
   "cell_type": "code",
   "execution_count": null,
   "metadata": {
    "collapsed": false
   },
   "outputs": [],
   "source": [
    "without_placement"
   ]
  },
  {
   "cell_type": "code",
   "execution_count": null,
   "metadata": {
    "collapsed": false
   },
   "outputs": [],
   "source": [
    "int((without_placement/total)*100)"
   ]
  },
  {
   "cell_type": "code",
   "execution_count": null,
   "metadata": {
    "collapsed": false
   },
   "outputs": [],
   "source": [
    "no_bond"
   ]
  },
  {
   "cell_type": "code",
   "execution_count": null,
   "metadata": {
    "collapsed": false
   },
   "outputs": [],
   "source": [
    "int((no_bond/total)*100)"
   ]
  },
  {
   "cell_type": "code",
   "execution_count": null,
   "metadata": {
    "collapsed": false
   },
   "outputs": [],
   "source": [
    "unable_to_pay"
   ]
  },
  {
   "cell_type": "code",
   "execution_count": null,
   "metadata": {
    "collapsed": false
   },
   "outputs": [],
   "source": [
    "int((unable_to_pay/total)*100)"
   ]
  },
  {
   "cell_type": "code",
   "execution_count": null,
   "metadata": {
    "collapsed": false
   },
   "outputs": [],
   "source": [
    "unable_to_pay_amt/unable_to_pay"
   ]
  },
  {
   "cell_type": "code",
   "execution_count": null,
   "metadata": {
    "collapsed": false
   },
   "outputs": [],
   "source": [
    "mode(unable_to_pay_bonds)"
   ]
  },
  {
   "cell_type": "code",
   "execution_count": null,
   "metadata": {
    "collapsed": false
   },
   "outputs": [],
   "source": [
    "len(no_pay_mis)"
   ]
  },
  {
   "cell_type": "code",
   "execution_count": null,
   "metadata": {
    "collapsed": false
   },
   "outputs": [],
   "source": [
    "unable_to_pay_amt_mis/625"
   ]
  },
  {
   "cell_type": "code",
   "execution_count": null,
   "metadata": {
    "collapsed": false
   },
   "outputs": [],
   "source": [
    "mode(unable_to_pay_mis_bonds)"
   ]
  },
  {
   "cell_type": "code",
   "execution_count": null,
   "metadata": {
    "collapsed": false
   },
   "outputs": [],
   "source": [
    "max(unable_to_pay_bonds)"
   ]
  },
  {
   "cell_type": "code",
   "execution_count": null,
   "metadata": {
    "collapsed": false
   },
   "outputs": [],
   "source": [
    "for iid, info in chi_data.individual_dict.items():\n",
    "    if info[\"Total Bond\"] > 9000000:\n",
    "        print(iid, info[\"Last Name\"], info[\"First Name\"])"
   ]
  },
  {
   "cell_type": "code",
   "execution_count": null,
   "metadata": {
    "collapsed": true
   },
   "outputs": [],
   "source": []
  }
 ],
 "metadata": {
  "kernelspec": {
   "display_name": "Python 3",
   "language": "python",
   "name": "python3"
  },
  "language_info": {
   "codemirror_mode": {
    "name": "ipython",
    "version": 3
   },
   "file_extension": ".py",
   "mimetype": "text/x-python",
   "name": "python",
   "nbconvert_exporter": "python",
   "pygments_lexer": "ipython3",
   "version": "3.5.1"
  }
 },
 "nbformat": 4,
 "nbformat_minor": 0
}
